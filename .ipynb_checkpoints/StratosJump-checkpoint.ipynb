{
 "cells": [
  {
   "cell_type": "code",
   "execution_count": 1,
   "metadata": {},
   "outputs": [],
   "source": [
    "import numpy as np\n",
    "import matplotlib.pyplot as plt\n",
    "import math"
   ]
  },
  {
   "cell_type": "code",
   "execution_count": 2,
   "metadata": {},
   "outputs": [],
   "source": [
    "## Particle class\n",
    "## Stolen from Adrian\n",
    "\n",
    "class particle(object):\n",
    "    \n",
    "    def __init__(self, mass=1., y=0., v=0.):\n",
    "        self.mass = mass\n",
    "        self.y = y\n",
    "        self.v = v\n",
    "        \n",
    "    def euler(self, f, dt):\n",
    "        self.y = self.y + self.v*dt\n",
    "        self.v = self.v + (f/self.mass)*dt\n",
    "        \n",
    "    def euler_cromer(self, f, dt):\n",
    "        self.v = self.v + f/self.mass*dt\n",
    "        self.y = self.y + self.v*dt"
   ]
  },
  {
   "cell_type": "code",
   "execution_count": 3,
   "metadata": {},
   "outputs": [],
   "source": [
    "## Define constants\n",
    "G = 6.674*10**(-11)  # gravitational constant; m3/(kgs2)\n",
    "Me = 5.9722*(10**24) # mass of earth; kg\n",
    "Re = 6371000.      # volumetric mean radius of earth; m (NASA Earth factsheet)\n",
    "\n",
    "m = 70             # Felix mass; kg\n",
    "r = .5             # Felix radius (spherical approximation); m\n",
    "\n",
    "C = 0.47           # drag coefficient\n",
    "A = math.pi*r**2   # cross-sectional area\n"
   ]
  },
  {
   "cell_type": "code",
   "execution_count": 28,
   "metadata": {},
   "outputs": [],
   "source": [
    "## Define functions to calculate changing variables\n",
    "\n",
    "def grav(h):\n",
    "    return (G*Me)/(Re + h)**2\n",
    "\n",
    "def fdrag(rho, v, C, A):\n",
    "    return .5*rho*C*A*(v*abs(v))\n",
    "\n",
    "## drag coefficient?\n",
    "    \n",
    "def calc_rho(h):\n",
    "    ## Troposphere\n",
    "    if h<11000.:\n",
    "        T = 15.04 - 0.00649*h # celsius :-/\n",
    "        p = 101.29*((T + 273.1)/288.08)**5.256\n",
    "        rho = p/(.2869*(T + 273.1))\n",
    "        return rho\n",
    "        \n",
    "    ## Lower Stratosphere\n",
    "    elif h>=11000. and h<25000.:\n",
    "        T = -56.46\n",
    "        p = 22.65*math.exp(1.73 - .000157*h)\n",
    "        rho = p/(.2869*(T + 273.1))\n",
    "        return rho\n",
    "    \n",
    "    ## Upper Stratosphere\n",
    "    elif h>=25000. and h<50000.:\n",
    "        T = -131.21 + 0.00299*h\n",
    "        p = 2.488*((T + 273.1)/216.6)**(-11.388)\n",
    "        rho = p/(.2869*(T + 273.1))\n",
    "        return rho\n",
    "    "
   ]
  },
  {
   "cell_type": "code",
   "execution_count": 29,
   "metadata": {},
   "outputs": [],
   "source": [
    "## Calculate jump\n",
    "\n",
    "y0 = 38969.4 # altitude; m\n",
    "v0 = 0.\n",
    "t0 = 0.\n",
    "dt = 0.1     # time step\n",
    "\n",
    "t = [t0]\n",
    "y = [y0]\n",
    "v = [v0]\n",
    "\n",
    "# fd = []\n",
    "# rho = []\n",
    "# g = []\n",
    "\n",
    "p = particle(m, y0, v0)\n",
    "\n",
    "while p.y > 0.:\n",
    "    \n",
    "#     r = calc_rho(y[-1])\n",
    "#     rho.append(r)\n",
    "#     drag = fdrag(r, p.v, C, A)\n",
    "#     fd.append(drag)\n",
    "#     gforce = grav(y[-1])*m\n",
    "#     g.append(gforce)\n",
    "        \n",
    "    fy = -fdrag(calc_rho(y[-1]), p.v, C, A) - grav(y[-1])*m\n",
    "    p.euler(fy, dt)\n",
    "    y.append(p.y)\n",
    "    v.append(p.v)\n",
    "    t.append(t[-1]+dt)\n",
    "\n",
    "tdata = np.array(t)\n",
    "ydata = np.array(y)\n",
    "vdata = np.array(v)"
   ]
  },
  {
   "cell_type": "code",
   "execution_count": null,
   "metadata": {},
   "outputs": [],
   "source": [
    "## Repeat jump, with constant gravitational acceleration g = 9.81\n",
    "t_g = [t0]\n",
    "y_g = [y0]\n",
    "v_g = [v0]\n",
    "p_g = particle(m, y0, v0)\n",
    "\n",
    "i = 0\n",
    "\n",
    "while p_g.y > 0.:\n",
    "    i+=1\n",
    "    fy_g = -fdrag(calc_rho(y[-1]), p_g.v, C, A) - 9.81*m\n",
    "    p.euler(fy_g, dt)\n",
    "    y_g.append(p_g.y)\n",
    "    v_g.append(p_g.v)\n",
    "    t_g.append(t[-1]+dt)\n",
    "\n",
    "tdata_g = np.array(t_g)\n",
    "ydata_g = np.array(y_g)\n",
    "vdata_g = np.array(v_g)"
   ]
  },
  {
   "cell_type": "code",
   "execution_count": 32,
   "metadata": {},
   "outputs": [
    {
     "data": {
      "text/plain": [
       "0"
      ]
     },
     "execution_count": 32,
     "metadata": {},
     "output_type": "execute_result"
    }
   ],
   "source": [
    "i"
   ]
  },
  {
   "cell_type": "code",
   "execution_count": null,
   "metadata": {},
   "outputs": [],
   "source": [
    "## Plot velocity\n",
    "\n",
    "plt.plot(tdata, vdata, color=\"#FF0000\", ls='-', lw=3, alpha=.5)\n",
    "plt.plot(tdata_g, vdata_g, 'g:')\n",
    "plt.xlabel('time(s)')\n",
    "plt.ylabel('velocity(m/s)')\n",
    "# plt.ylim(-378,0)"
   ]
  },
  {
   "cell_type": "code",
   "execution_count": null,
   "metadata": {},
   "outputs": [],
   "source": [
    "## Plot altitude\n",
    "\n",
    "plt.plot(tdata, ydata, color=\"#0000FF\", ls='-', lw=3)\n",
    "plt.ylabel('position(m)')\n",
    "plt.xlabel('time(s)')"
   ]
  },
  {
   "cell_type": "code",
   "execution_count": null,
   "metadata": {},
   "outputs": [],
   "source": [
    "print(ydata[:10])\n",
    "print(len(ydata))"
   ]
  },
  {
   "cell_type": "code",
   "execution_count": null,
   "metadata": {},
   "outputs": [],
   "source": [
    "## Check how calc_rho() should behave\n",
    "\n",
    "ylin = np.linspace(39000,0,1000)\n",
    "r = []\n",
    "for i in ylin:\n",
    "    r.append(calc_rho(i))\n",
    "    \n",
    "print(r[800:])\n",
    "print(ylin[800:])\n",
    "\n",
    "plt.plot(ylin, r)"
   ]
  },
  {
   "cell_type": "code",
   "execution_count": null,
   "metadata": {},
   "outputs": [],
   "source": [
    "## Check how grav() should behave\n",
    "\n",
    "ylin = np.linspace(39000,0,1000)\n",
    "g = []\n",
    "for i in ylin:\n",
    "    g.append(grav(i))\n",
    "    \n",
    "plt.plot(ylin, g)"
   ]
  },
  {
   "cell_type": "code",
   "execution_count": null,
   "metadata": {},
   "outputs": [],
   "source": [
    "## Check how fdrag() should behave\n",
    "\n",
    "ylin = np.linspace(39000,0,400)\n",
    "r = []\n",
    "for i in ylin:\n",
    "    r.append(calc_rho(i))\n",
    "    \n",
    "l = list(np.linspace(0, -377.1, 150)) #highest speed 377.1 m/s\n",
    "m = list(np.linspace(-377.1, -289.722222, 50))\n",
    "n = list(np.linspace(-289.722222, -79.1666667, 150))\n",
    "o = list(np.linspace(-79.1666667, -53.1944444, 50))\n",
    "vlin = l + m + n + o \n",
    "\n",
    "vee = np.multiply(vlin, [ abs(x) for x in vlin ])\n",
    "fd = 0.5*C*A*np.multiply(r,vee)\n",
    "\n",
    "plt.plot(vee, fd)"
   ]
  },
  {
   "cell_type": "code",
   "execution_count": null,
   "metadata": {},
   "outputs": [],
   "source": []
  },
  {
   "cell_type": "code",
   "execution_count": null,
   "metadata": {},
   "outputs": [],
   "source": []
  },
  {
   "cell_type": "code",
   "execution_count": null,
   "metadata": {},
   "outputs": [],
   "source": []
  },
  {
   "cell_type": "code",
   "execution_count": null,
   "metadata": {},
   "outputs": [],
   "source": []
  },
  {
   "cell_type": "code",
   "execution_count": null,
   "metadata": {},
   "outputs": [],
   "source": []
  },
  {
   "cell_type": "code",
   "execution_count": null,
   "metadata": {},
   "outputs": [],
   "source": []
  },
  {
   "cell_type": "code",
   "execution_count": null,
   "metadata": {},
   "outputs": [],
   "source": []
  },
  {
   "cell_type": "code",
   "execution_count": null,
   "metadata": {},
   "outputs": [],
   "source": []
  },
  {
   "cell_type": "code",
   "execution_count": null,
   "metadata": {},
   "outputs": [],
   "source": []
  },
  {
   "cell_type": "code",
   "execution_count": null,
   "metadata": {},
   "outputs": [],
   "source": []
  },
  {
   "cell_type": "code",
   "execution_count": null,
   "metadata": {},
   "outputs": [],
   "source": []
  },
  {
   "cell_type": "code",
   "execution_count": null,
   "metadata": {},
   "outputs": [],
   "source": []
  },
  {
   "cell_type": "code",
   "execution_count": null,
   "metadata": {},
   "outputs": [],
   "source": []
  }
 ],
 "metadata": {
  "kernelspec": {
   "display_name": "Python 3",
   "language": "python",
   "name": "python3"
  },
  "language_info": {
   "codemirror_mode": {
    "name": "ipython",
    "version": 3
   },
   "file_extension": ".py",
   "mimetype": "text/x-python",
   "name": "python",
   "nbconvert_exporter": "python",
   "pygments_lexer": "ipython3",
   "version": "3.6.7"
  }
 },
 "nbformat": 4,
 "nbformat_minor": 2
}
