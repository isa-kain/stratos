{
 "cells": [
  {
   "cell_type": "code",
   "execution_count": 3,
   "metadata": {},
   "outputs": [],
   "source": [
    "import numpy\n",
    "import matplotlib.pyplot as plt\n",
    "import math"
   ]
  },
  {
   "cell_type": "code",
   "execution_count": 5,
   "metadata": {},
   "outputs": [],
   "source": [
    "## Particle class\n",
    "## Stolen from Adrian\n",
    "\n",
    "class particle(object):\n",
    "    \n",
    "    def __init__(self, mass=1., y=0., v=0.):\n",
    "        self.mass = mass\n",
    "        self.y = y\n",
    "        self.v = v\n",
    "        \n",
    "    def euler(self, f, dt):\n",
    "        self.y = self.y + self.v*dt\n",
    "        self.v = self.v + f/self.mass*dt\n",
    "        \n",
    "    def euler_cromer(self, f, dt):\n",
    "        self.v = self.v + f/self.mass*dt\n",
    "        self.y = self.y + self.v*dt"
   ]
  },
  {
   "cell_type": "code",
   "execution_count": 4,
   "metadata": {},
   "outputs": [],
   "source": [
    "## Define constants\n",
    "G = 6.674*10**-11  # gravitational constant; m3/(kgs2)\n",
    "Me = 5.9722*10**24 # mass of earth; kg\n",
    "Re = 6371000.      # volumetric mean radius of earth; m (NASA Earth factsheet)\n",
    "\n",
    "m = 70             # Felix mass; kg\n",
    "r = .5             # Felix radius (spherical approximation); m\n",
    "\n",
    "C = 0.47           # drag coefficient\n",
    "A = math.pi*r**2   # cross-sectional area\n"
   ]
  },
  {
   "cell_type": "code",
   "execution_count": null,
   "metadata": {},
   "outputs": [],
   "source": [
    "## Define functions to calculate changing variables\n",
    "\n",
    "def grav(h):\n",
    "    return G*Me/(Re + h)\n",
    "\n",
    "def fdrag(rho, v, C, A):\n",
    "    return .5*rho*v**2*C*A\n",
    "\n",
    "## drag coefficient?\n",
    "    \n",
    "def calc_rho(h):\n",
    "    ## NASA Earth Atmo model: https://www.grc.nasa.gov/www/k-12/airplane/atmosmet.html\n",
    "    \n",
    "    ## Troposphere\n",
    "    if h<=11000.:\n",
    "        T = 15.04 - 0.00649*h\n",
    "        p = 101.29*((T + 273.1)/288.08)**5.256\n",
    "        rho = p/(2.869*(T + 273.1))\n",
    "    \n",
    "    ## Lower Stratosphere\n",
    "    elif h>11000. and h<=25000.:\n",
    "        T = -56.46\n",
    "        p = 22.65*exp(1.73 - .000157*h)\n",
    "        rho = p/(2.869*(T + 273.1))\n",
    "        return rho\n",
    "    \n",
    "    ## Upper Stratosphere\n",
    "    elif h>25000. and h<=50000.:\n",
    "        T = -131.21 - 0.00299*h\n",
    "        p = 2.488*((T + 273.1)/216.6)**(-11.388)\n",
    "        rho = p/(2.869*(T + 273.1))\n",
    "        return rho\n",
    "    "
   ]
  },
  {
   "cell_type": "code",
   "execution_count": null,
   "metadata": {},
   "outputs": [],
   "source": [
    "## Initialize values for jump\n",
    "\n",
    "y0 = 38969.4 #m\n",
    "v0 = 0.\n",
    "t0 = 0.\n",
    "\n"
   ]
  }
 ],
 "metadata": {
  "kernelspec": {
   "display_name": "Python 3",
   "language": "python",
   "name": "python3"
  },
  "language_info": {
   "codemirror_mode": {
    "name": "ipython",
    "version": 3
   },
   "file_extension": ".py",
   "mimetype": "text/x-python",
   "name": "python",
   "nbconvert_exporter": "python",
   "pygments_lexer": "ipython3",
   "version": "3.6.7"
  }
 },
 "nbformat": 4,
 "nbformat_minor": 2
}
